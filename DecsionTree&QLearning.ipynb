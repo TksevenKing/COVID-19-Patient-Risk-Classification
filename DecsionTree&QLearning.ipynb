{
 "cells": [
  {
   "cell_type": "markdown",
   "id": "35632f61-c50d-4642-8b39-7606e92601b3",
   "metadata": {},
   "source": [
    "# Les importations necessaires"
   ]
  },
  {
   "cell_type": "code",
   "execution_count": 2,
   "id": "6b9af894-c8f5-4355-858c-3f6c5138cd1e",
   "metadata": {},
   "outputs": [],
   "source": [
    "import numpy as np\n",
    "import pandas as pd\n",
    "from matplotlib import pyplot as plt\n",
    "import scipy"
   ]
  },
  {
   "cell_type": "code",
   "execution_count": 3,
   "id": "ab4f6d03-2a5a-4404-a816-b68446fdfb13",
   "metadata": {},
   "outputs": [],
   "source": [
    "from sklearn.model_selection import train_test_split\n",
    "from sklearn.svm import SVC\n",
    "from sklearn.tree import DecisionTreeClassifier\n",
    "from sklearn.ensemble import RandomForestClassifier\n",
    "from sklearn.metrics import classification_report\n",
    "from sklearn.metrics import f1_score, accuracy_score, precision_score, recall_score\n",
    "from sklearn.preprocessing import StandardScaler\n",
    "from imblearn.over_sampling import SMOTE\n",
    "from sklearn.tree import plot_tree\n",
    "import matplotlib.pyplot as plt"
   ]
  },
  {
   "cell_type": "markdown",
   "id": "ca9fc9ff-b514-4800-b44f-a0cfb75c2653",
   "metadata": {},
   "source": [
    "# Chargement des données"
   ]
  },
  {
   "cell_type": "code",
   "execution_count": 5,
   "id": "96d7d2d3-8a04-40b3-a7ff-de7661eb7018",
   "metadata": {},
   "outputs": [],
   "source": [
    "covid = pd.read_csv(\"Covid Data.csv\", low_memory = False)"
   ]
  },
  {
   "cell_type": "markdown",
   "id": "f7398800-e5e3-452e-8962-3bbd7aa5ca05",
   "metadata": {},
   "source": [
    "# Encodage des données et suppression des valeurs manquantes"
   ]
  },
  {
   "cell_type": "code",
   "execution_count": 7,
   "id": "336f9ce8-997b-4e11-9996-fcfbfe06c400",
   "metadata": {},
   "outputs": [],
   "source": [
    "columns = [\n",
    "    \"SEX\", \"USMER\", \"PATIENT_TYPE\", \"PNEUMONIA\", \"DIABETES\", \n",
    "    \"COPD\", \"ASTHMA\", \"INMSUPR\", \"HIPERTENSION\", \"OTHER_DISEASE\",\n",
    "    \"CARDIOVASCULAR\", \"OBESITY\", \"RENAL_CHRONIC\", \"TOBACCO\"\n",
    "]\n",
    "covid = covid.loc[covid.CLASIFFICATION_FINAL < 4]\n",
    "for column in columns:\n",
    "    covid = covid.loc[(covid[column] == 1) | (covid[column] == 2)]\n"
   ]
  },
  {
   "cell_type": "code",
   "execution_count": 8,
   "id": "aa8cdf18-ae85-4f1d-9015-6ed04968fb2b",
   "metadata": {},
   "outputs": [],
   "source": [
    "columns = [\n",
    "    \"SEX\", \"USMER\", \"PNEUMONIA\", \"DIABETES\", \"COPD\", \n",
    "    \"ASTHMA\", \"INMSUPR\", \"HIPERTENSION\", \"OTHER_DISEASE\", \n",
    "    \"CARDIOVASCULAR\", \"OBESITY\", \"RENAL_CHRONIC\", \"TOBACCO\", \n",
    "    \"PREGNANT\", \"INTUBED\", \"ICU\"\n",
    "]\n",
    "for column in columns:\n",
    "    covid[column] = covid[column].apply(lambda x: x if x == 1 else 0)\n",
    "covid[\"PATIENT_TYPE\"] = covid[\"PATIENT_TYPE\"].apply(lambda x: 0 if x == 1 else 1)\n",
    "covid[\"DATE_DIED\"] = covid[\"DATE_DIED\"].apply(lambda x: 0 if x == \"9999-99-99\" else 1)\n"
   ]
  },
  {
   "cell_type": "code",
   "execution_count": 9,
   "id": "1bf3652e-a559-49fc-a8d6-e61576813c32",
   "metadata": {},
   "outputs": [
    {
     "data": {
      "text/plain": [
       "(388878, 21)"
      ]
     },
     "execution_count": 9,
     "metadata": {},
     "output_type": "execute_result"
    }
   ],
   "source": [
    "covid.shape"
   ]
  },
  {
   "cell_type": "code",
   "execution_count": 10,
   "id": "63f0353c-7587-4f06-8c3c-f8e5bc503019",
   "metadata": {
    "scrolled": true
   },
   "outputs": [
    {
     "data": {
      "text/html": [
       "<div>\n",
       "<style scoped>\n",
       "    .dataframe tbody tr th:only-of-type {\n",
       "        vertical-align: middle;\n",
       "    }\n",
       "\n",
       "    .dataframe tbody tr th {\n",
       "        vertical-align: top;\n",
       "    }\n",
       "\n",
       "    .dataframe thead th {\n",
       "        text-align: right;\n",
       "    }\n",
       "</style>\n",
       "<table border=\"1\" class=\"dataframe\">\n",
       "  <thead>\n",
       "    <tr style=\"text-align: right;\">\n",
       "      <th></th>\n",
       "      <th>USMER</th>\n",
       "      <th>MEDICAL_UNIT</th>\n",
       "      <th>SEX</th>\n",
       "      <th>PATIENT_TYPE</th>\n",
       "      <th>DATE_DIED</th>\n",
       "      <th>INTUBED</th>\n",
       "      <th>PNEUMONIA</th>\n",
       "      <th>AGE</th>\n",
       "      <th>PREGNANT</th>\n",
       "      <th>DIABETES</th>\n",
       "      <th>...</th>\n",
       "      <th>ASTHMA</th>\n",
       "      <th>INMSUPR</th>\n",
       "      <th>HIPERTENSION</th>\n",
       "      <th>OTHER_DISEASE</th>\n",
       "      <th>CARDIOVASCULAR</th>\n",
       "      <th>OBESITY</th>\n",
       "      <th>RENAL_CHRONIC</th>\n",
       "      <th>TOBACCO</th>\n",
       "      <th>CLASIFFICATION_FINAL</th>\n",
       "      <th>ICU</th>\n",
       "    </tr>\n",
       "  </thead>\n",
       "  <tbody>\n",
       "    <tr>\n",
       "      <th>0</th>\n",
       "      <td>0</td>\n",
       "      <td>1</td>\n",
       "      <td>1</td>\n",
       "      <td>0</td>\n",
       "      <td>1</td>\n",
       "      <td>0</td>\n",
       "      <td>1</td>\n",
       "      <td>65</td>\n",
       "      <td>0</td>\n",
       "      <td>0</td>\n",
       "      <td>...</td>\n",
       "      <td>0</td>\n",
       "      <td>0</td>\n",
       "      <td>1</td>\n",
       "      <td>0</td>\n",
       "      <td>0</td>\n",
       "      <td>0</td>\n",
       "      <td>0</td>\n",
       "      <td>0</td>\n",
       "      <td>3</td>\n",
       "      <td>0</td>\n",
       "    </tr>\n",
       "    <tr>\n",
       "      <th>2</th>\n",
       "      <td>0</td>\n",
       "      <td>1</td>\n",
       "      <td>0</td>\n",
       "      <td>1</td>\n",
       "      <td>1</td>\n",
       "      <td>1</td>\n",
       "      <td>0</td>\n",
       "      <td>55</td>\n",
       "      <td>0</td>\n",
       "      <td>1</td>\n",
       "      <td>...</td>\n",
       "      <td>0</td>\n",
       "      <td>0</td>\n",
       "      <td>0</td>\n",
       "      <td>0</td>\n",
       "      <td>0</td>\n",
       "      <td>0</td>\n",
       "      <td>0</td>\n",
       "      <td>0</td>\n",
       "      <td>3</td>\n",
       "      <td>0</td>\n",
       "    </tr>\n",
       "    <tr>\n",
       "      <th>4</th>\n",
       "      <td>0</td>\n",
       "      <td>1</td>\n",
       "      <td>0</td>\n",
       "      <td>0</td>\n",
       "      <td>1</td>\n",
       "      <td>0</td>\n",
       "      <td>0</td>\n",
       "      <td>68</td>\n",
       "      <td>0</td>\n",
       "      <td>1</td>\n",
       "      <td>...</td>\n",
       "      <td>0</td>\n",
       "      <td>0</td>\n",
       "      <td>1</td>\n",
       "      <td>0</td>\n",
       "      <td>0</td>\n",
       "      <td>0</td>\n",
       "      <td>0</td>\n",
       "      <td>0</td>\n",
       "      <td>3</td>\n",
       "      <td>0</td>\n",
       "    </tr>\n",
       "    <tr>\n",
       "      <th>5</th>\n",
       "      <td>0</td>\n",
       "      <td>1</td>\n",
       "      <td>1</td>\n",
       "      <td>1</td>\n",
       "      <td>0</td>\n",
       "      <td>0</td>\n",
       "      <td>1</td>\n",
       "      <td>40</td>\n",
       "      <td>0</td>\n",
       "      <td>0</td>\n",
       "      <td>...</td>\n",
       "      <td>0</td>\n",
       "      <td>0</td>\n",
       "      <td>0</td>\n",
       "      <td>0</td>\n",
       "      <td>0</td>\n",
       "      <td>0</td>\n",
       "      <td>0</td>\n",
       "      <td>0</td>\n",
       "      <td>3</td>\n",
       "      <td>0</td>\n",
       "    </tr>\n",
       "    <tr>\n",
       "      <th>6</th>\n",
       "      <td>0</td>\n",
       "      <td>1</td>\n",
       "      <td>1</td>\n",
       "      <td>0</td>\n",
       "      <td>0</td>\n",
       "      <td>0</td>\n",
       "      <td>0</td>\n",
       "      <td>64</td>\n",
       "      <td>0</td>\n",
       "      <td>0</td>\n",
       "      <td>...</td>\n",
       "      <td>0</td>\n",
       "      <td>0</td>\n",
       "      <td>0</td>\n",
       "      <td>0</td>\n",
       "      <td>0</td>\n",
       "      <td>0</td>\n",
       "      <td>0</td>\n",
       "      <td>0</td>\n",
       "      <td>3</td>\n",
       "      <td>0</td>\n",
       "    </tr>\n",
       "    <tr>\n",
       "      <th>...</th>\n",
       "      <td>...</td>\n",
       "      <td>...</td>\n",
       "      <td>...</td>\n",
       "      <td>...</td>\n",
       "      <td>...</td>\n",
       "      <td>...</td>\n",
       "      <td>...</td>\n",
       "      <td>...</td>\n",
       "      <td>...</td>\n",
       "      <td>...</td>\n",
       "      <td>...</td>\n",
       "      <td>...</td>\n",
       "      <td>...</td>\n",
       "      <td>...</td>\n",
       "      <td>...</td>\n",
       "      <td>...</td>\n",
       "      <td>...</td>\n",
       "      <td>...</td>\n",
       "      <td>...</td>\n",
       "      <td>...</td>\n",
       "      <td>...</td>\n",
       "    </tr>\n",
       "    <tr>\n",
       "      <th>1047933</th>\n",
       "      <td>1</td>\n",
       "      <td>13</td>\n",
       "      <td>1</td>\n",
       "      <td>1</td>\n",
       "      <td>0</td>\n",
       "      <td>0</td>\n",
       "      <td>0</td>\n",
       "      <td>77</td>\n",
       "      <td>0</td>\n",
       "      <td>1</td>\n",
       "      <td>...</td>\n",
       "      <td>0</td>\n",
       "      <td>1</td>\n",
       "      <td>1</td>\n",
       "      <td>0</td>\n",
       "      <td>0</td>\n",
       "      <td>0</td>\n",
       "      <td>0</td>\n",
       "      <td>0</td>\n",
       "      <td>3</td>\n",
       "      <td>0</td>\n",
       "    </tr>\n",
       "    <tr>\n",
       "      <th>1047934</th>\n",
       "      <td>1</td>\n",
       "      <td>13</td>\n",
       "      <td>1</td>\n",
       "      <td>0</td>\n",
       "      <td>0</td>\n",
       "      <td>0</td>\n",
       "      <td>0</td>\n",
       "      <td>55</td>\n",
       "      <td>0</td>\n",
       "      <td>1</td>\n",
       "      <td>...</td>\n",
       "      <td>0</td>\n",
       "      <td>0</td>\n",
       "      <td>0</td>\n",
       "      <td>0</td>\n",
       "      <td>0</td>\n",
       "      <td>0</td>\n",
       "      <td>0</td>\n",
       "      <td>0</td>\n",
       "      <td>3</td>\n",
       "      <td>0</td>\n",
       "    </tr>\n",
       "    <tr>\n",
       "      <th>1047935</th>\n",
       "      <td>1</td>\n",
       "      <td>13</td>\n",
       "      <td>0</td>\n",
       "      <td>0</td>\n",
       "      <td>0</td>\n",
       "      <td>0</td>\n",
       "      <td>0</td>\n",
       "      <td>70</td>\n",
       "      <td>0</td>\n",
       "      <td>0</td>\n",
       "      <td>...</td>\n",
       "      <td>0</td>\n",
       "      <td>0</td>\n",
       "      <td>1</td>\n",
       "      <td>0</td>\n",
       "      <td>0</td>\n",
       "      <td>0</td>\n",
       "      <td>0</td>\n",
       "      <td>0</td>\n",
       "      <td>3</td>\n",
       "      <td>0</td>\n",
       "    </tr>\n",
       "    <tr>\n",
       "      <th>1047936</th>\n",
       "      <td>0</td>\n",
       "      <td>13</td>\n",
       "      <td>0</td>\n",
       "      <td>0</td>\n",
       "      <td>0</td>\n",
       "      <td>0</td>\n",
       "      <td>0</td>\n",
       "      <td>32</td>\n",
       "      <td>0</td>\n",
       "      <td>0</td>\n",
       "      <td>...</td>\n",
       "      <td>0</td>\n",
       "      <td>0</td>\n",
       "      <td>0</td>\n",
       "      <td>0</td>\n",
       "      <td>0</td>\n",
       "      <td>0</td>\n",
       "      <td>0</td>\n",
       "      <td>0</td>\n",
       "      <td>3</td>\n",
       "      <td>0</td>\n",
       "    </tr>\n",
       "    <tr>\n",
       "      <th>1047937</th>\n",
       "      <td>0</td>\n",
       "      <td>13</td>\n",
       "      <td>1</td>\n",
       "      <td>0</td>\n",
       "      <td>0</td>\n",
       "      <td>0</td>\n",
       "      <td>0</td>\n",
       "      <td>30</td>\n",
       "      <td>0</td>\n",
       "      <td>0</td>\n",
       "      <td>...</td>\n",
       "      <td>0</td>\n",
       "      <td>0</td>\n",
       "      <td>0</td>\n",
       "      <td>0</td>\n",
       "      <td>0</td>\n",
       "      <td>0</td>\n",
       "      <td>0</td>\n",
       "      <td>0</td>\n",
       "      <td>3</td>\n",
       "      <td>0</td>\n",
       "    </tr>\n",
       "  </tbody>\n",
       "</table>\n",
       "<p>388878 rows × 21 columns</p>\n",
       "</div>"
      ],
      "text/plain": [
       "         USMER  MEDICAL_UNIT  SEX  PATIENT_TYPE  DATE_DIED  INTUBED  \\\n",
       "0            0             1    1             0          1        0   \n",
       "2            0             1    0             1          1        1   \n",
       "4            0             1    0             0          1        0   \n",
       "5            0             1    1             1          0        0   \n",
       "6            0             1    1             0          0        0   \n",
       "...        ...           ...  ...           ...        ...      ...   \n",
       "1047933      1            13    1             1          0        0   \n",
       "1047934      1            13    1             0          0        0   \n",
       "1047935      1            13    0             0          0        0   \n",
       "1047936      0            13    0             0          0        0   \n",
       "1047937      0            13    1             0          0        0   \n",
       "\n",
       "         PNEUMONIA  AGE  PREGNANT  DIABETES  ...  ASTHMA  INMSUPR  \\\n",
       "0                1   65         0         0  ...       0        0   \n",
       "2                0   55         0         1  ...       0        0   \n",
       "4                0   68         0         1  ...       0        0   \n",
       "5                1   40         0         0  ...       0        0   \n",
       "6                0   64         0         0  ...       0        0   \n",
       "...            ...  ...       ...       ...  ...     ...      ...   \n",
       "1047933          0   77         0         1  ...       0        1   \n",
       "1047934          0   55         0         1  ...       0        0   \n",
       "1047935          0   70         0         0  ...       0        0   \n",
       "1047936          0   32         0         0  ...       0        0   \n",
       "1047937          0   30         0         0  ...       0        0   \n",
       "\n",
       "         HIPERTENSION  OTHER_DISEASE  CARDIOVASCULAR  OBESITY  RENAL_CHRONIC  \\\n",
       "0                   1              0               0        0              0   \n",
       "2                   0              0               0        0              0   \n",
       "4                   1              0               0        0              0   \n",
       "5                   0              0               0        0              0   \n",
       "6                   0              0               0        0              0   \n",
       "...               ...            ...             ...      ...            ...   \n",
       "1047933             1              0               0        0              0   \n",
       "1047934             0              0               0        0              0   \n",
       "1047935             1              0               0        0              0   \n",
       "1047936             0              0               0        0              0   \n",
       "1047937             0              0               0        0              0   \n",
       "\n",
       "         TOBACCO  CLASIFFICATION_FINAL  ICU  \n",
       "0              0                     3    0  \n",
       "2              0                     3    0  \n",
       "4              0                     3    0  \n",
       "5              0                     3    0  \n",
       "6              0                     3    0  \n",
       "...          ...                   ...  ...  \n",
       "1047933        0                     3    0  \n",
       "1047934        0                     3    0  \n",
       "1047935        0                     3    0  \n",
       "1047936        0                     3    0  \n",
       "1047937        0                     3    0  \n",
       "\n",
       "[388878 rows x 21 columns]"
      ]
     },
     "execution_count": 10,
     "metadata": {},
     "output_type": "execute_result"
    }
   ],
   "source": [
    "covid"
   ]
  },
  {
   "cell_type": "markdown",
   "id": "7eee3811-23d4-4546-b5b1-ee72985e4859",
   "metadata": {},
   "source": [
    "# Fusion et suppréssion des colonnes à forte corrélation pour obtenir la Target"
   ]
  },
  {
   "cell_type": "code",
   "execution_count": 12,
   "id": "6083d0f6-5fae-4a3a-b1b6-e3bffe2a0227",
   "metadata": {},
   "outputs": [],
   "source": [
    "covid['AT_RISK'] = covid['DATE_DIED'] + covid['INTUBED'] + covid['ICU']\n",
    "covid.AT_RISK = covid.AT_RISK.apply(lambda x: 1 if x > 0 else 0) \n",
    "covid.drop(columns = ['CLASIFFICATION_FINAL', 'INTUBED', 'ICU', 'DATE_DIED'], inplace=True)"
   ]
  },
  {
   "cell_type": "markdown",
   "id": "97a57f73-2dbd-40a2-84a9-d7429a5017ae",
   "metadata": {},
   "source": [
    "# Division des données en données d'entraînement et de test"
   ]
  },
  {
   "cell_type": "code",
   "execution_count": 14,
   "id": "0e0e88d7-d298-4697-ae0a-f6984737cb58",
   "metadata": {},
   "outputs": [],
   "source": [
    "train, validation = train_test_split(covid, test_size=0.1, shuffle=True)\n",
    "validation, test = train_test_split(validation, test_size=0.5, shuffle=True)\n",
    "\n",
    "validation_y = validation.AT_RISK.to_numpy()\n",
    "validation_x = validation.drop(columns = ['AT_RISK']).to_numpy()\n",
    "\n",
    "test_y = test.AT_RISK.to_numpy()\n",
    "test_x = test.drop(columns = ['AT_RISK']).to_numpy()"
   ]
  },
  {
   "cell_type": "markdown",
   "id": "2346b261-c259-423a-a495-a7ac88c1dae7",
   "metadata": {},
   "source": [
    "# Entraînement des models"
   ]
  },
  {
   "cell_type": "markdown",
   "id": "021742a1-0cc4-4d47-ba72-49595238fd42",
   "metadata": {},
   "source": [
    "# Decision Tree Model (Arbre de decision)"
   ]
  },
  {
   "cell_type": "markdown",
   "id": "7da35259-4038-4711-a740-2f7283cac71d",
   "metadata": {},
   "source": [
    "## Définition des parmètres de l'algorithme"
   ]
  },
  {
   "cell_type": "code",
   "execution_count": 18,
   "id": "06ab97af-f5b9-4937-a436-bb4818599f04",
   "metadata": {},
   "outputs": [],
   "source": [
    "heuristics = [\"entropy\", \"gini\"] # Critères d'impurétés\n",
    "splitters = [\"best\", \"random\"] # Stratégie de division\n",
    "max_depth = [5, 7, 11, 13, 17] # Profondeur de l'arbre\n",
    "F_scores = {} # Pour mesurer le meilleur critère appliquer aux meilleurs stratégies\n",
    "Best_score = 0 # Meilleur Scores"
   ]
  },
  {
   "cell_type": "code",
   "execution_count": 19,
   "id": "1ab97105-6217-4db1-912d-13d6982d6f79",
   "metadata": {},
   "outputs": [],
   "source": [
    "train_y = train.AT_RISK.to_numpy()\n",
    "train_x = train.drop(columns = ['AT_RISK']).to_numpy()"
   ]
  },
  {
   "cell_type": "markdown",
   "id": "803a902f-28c0-4365-b254-5e00a6698c37",
   "metadata": {},
   "source": [
    "## Application des différents Critères et stratégie dans les différents profondeurs et recuperation du F-Scores"
   ]
  },
  {
   "cell_type": "code",
   "execution_count": 21,
   "id": "61565df0-5008-48be-8f9d-1ee2b4710a48",
   "metadata": {},
   "outputs": [],
   "source": [
    "for d in max_depth: # Parcours des différents profondeurs \n",
    "    F_scores[d] = np.zeros(len(heuristics)*len(splitters))\n",
    "    i=0\n",
    "    for heuristic, splitter in [(heuristic, splitter) for heuristic in heuristics for splitter in splitters]: # Parcours des différents critères et stratégies\n",
    "        # Création du décision tree\n",
    "        dt_classifier = DecisionTreeClassifier(criterion=heuristic, splitter=splitter, max_depth=d, class_weight='balanced')\n",
    "        dt_classifier.fit(train_x, train_y)\n",
    "        y_pred = dt_classifier.predict(validation_x)\n",
    "\n",
    "         # Calculer la F-mesure avec sklearn\n",
    "        F_scores[d][i] = f1_score(validation_y, y_pred, average='weighted')\n",
    "        # Vérifier si c'est le meilleur modèle\n",
    "        if F_scores[d][i] > Best_score:\n",
    "            Best_score = F_scores[d][i]\n",
    "            Best_model = dt_classifier\n",
    "        # Visualisation des différents Decisions tree \n",
    "        #plt.figure(figsize=(12, 8))\n",
    "        #plot_tree(dt_classifier, filled=True, class_names=[\"Classe 0\", \"Classe 1\"])\n",
    "        #plt.title(f\"Tree Visualization: Depth={d}, Heuristic={heuristic}, Splitter={splitter}\")\n",
    "        #plt.show()\n",
    "        \n",
    "        i += 1"
   ]
  },
  {
   "cell_type": "markdown",
   "id": "e80a8d72-f8f8-4740-9da5-f4d3e0c7a8d8",
   "metadata": {},
   "source": [
    "## Visualisation graphique"
   ]
  },
  {
   "cell_type": "code",
   "execution_count": 23,
   "id": "e2bc01c7-0248-419b-9e77-e9c3c1830e49",
   "metadata": {},
   "outputs": [
    {
     "data": {
      "image/png": "[encoded data removed]",
      "text/plain": [
       "<Figure size 640x480 with 1 Axes>"
      ]
     },
     "metadata": {},
     "output_type": "display_data"
    }
   ],
   "source": [
    "# Initialisation des listes pour stocker les F-mesures par modèle\n",
    "l1, l2, l3, l4 = [], [], [], []\n",
    "# Parcours des F-mesures pour chaque profondeur d'arbre (max_depth)\n",
    "for k in F_scores.keys():\n",
    "    fmeasures = F_scores[k] \n",
    "    # Scatter plot pour chaque profondeur, avec les F-mesures correspondantes\n",
    "    plt.scatter([k] * len(fmeasures), fmeasures)  \n",
    "    # Remplissage des listes l1, l2, l3, l4 pour chaque modèle\n",
    "    l1.append(fmeasures[0])  # id3 best\n",
    "    l2.append(fmeasures[1])  # id3 random\n",
    "    l3.append(fmeasures[2])  # gini best\n",
    "    l4.append(fmeasures[3])  # gini random\n",
    "\n",
    "# Création des lignes pour chaque modèle avec les F-mesures moyennes\n",
    "plt.errorbar(max_depth, l1, label='id3 best', fmt='-o')\n",
    "plt.errorbar(max_depth, l2, label='id3 random', fmt='-o')\n",
    "plt.errorbar(max_depth, l3, label='gini best', fmt='-o')\n",
    "plt.errorbar(max_depth, l4, label='gini random', fmt='-o')\n",
    "\n",
    "# Affichage de la légende et des titres\n",
    "plt.legend(loc='lower right')\n",
    "plt.title('Decision Trees values comparison')\n",
    "plt.xlabel('Tree Depth')\n",
    "plt.ylabel('F-Measure')\n",
    "\n",
    "# Affichage de la figure\n",
    "plt.show()\n"
   ]
  },
  {
   "cell_type": "code",
   "execution_count": 24,
   "id": "890db2a5-f907-4db2-9bdc-d4cd38595e90",
   "metadata": {},
   "outputs": [
    {
     "name": "stdout",
     "output_type": "stream",
     "text": [
      "best result for: heuristic = gini, splitter = best, max depth = 17, F-measure = 0.871222\n"
     ]
    }
   ],
   "source": [
    "params = Best_model.get_params()\n",
    "print('best result for: heuristic = %s, splitter = %s, max depth = %d, F-measure = %f' % (params['criterion'], params['splitter'], params['max_depth'], Best_score))"
   ]
  },
  {
   "cell_type": "markdown",
   "id": "0b7056e3-e818-4118-b4e5-b28867b670fc",
   "metadata": {},
   "source": [
    "## Prédiction sur les données de tests"
   ]
  },
  {
   "cell_type": "code",
   "execution_count": 27,
   "id": "4d7cca8f-f5b1-4e4e-a0dd-9a725dc84847",
   "metadata": {},
   "outputs": [
    {
     "name": "stdout",
     "output_type": "stream",
     "text": [
      "Meilleur modèle trouvé avec F-mesure sur validation: 0.871221872212511\n",
      "Évaluation sur l'ensemble de test:\n",
      "F1-Score: 0.8674\n",
      "Accuracy: 0.8529\n",
      "Precision: 0.9049\n",
      "Recall: 0.8529\n"
     ]
    }
   ],
   "source": [
    "if Best_model is not None:\n",
    "    y_test_pred = Best_model.predict(test_x)\n",
    "    \n",
    "    # Calcul des métriques d'évaluation\n",
    "    f1 = f1_score(test_y, y_test_pred, average='weighted')\n",
    "    accuracy = accuracy_score(test_y, y_test_pred)\n",
    "    precision = precision_score(test_y, y_test_pred, average='weighted')\n",
    "    recall = recall_score(test_y, y_test_pred, average='weighted')\n",
    "\n",
    "    # Affichage des résultats\n",
    "    print(f\"Meilleur modèle trouvé avec F-mesure sur validation: {Best_score}\")\n",
    "    print(\"Évaluation sur l'ensemble de test:\")\n",
    "    print(f\"F1-Score: {f1:.4f}\")\n",
    "    print(f\"Accuracy: {accuracy:.4f}\")\n",
    "    print(f\"Precision: {precision:.4f}\")\n",
    "    print(f\"Recall: {recall:.4f}\")\n",
    "else:\n",
    "    print(\"Aucun modèle n'a été trouvé.\")"
   ]
  },
  {
   "cell_type": "markdown",
   "id": "6d142cb0-2267-4ed6-ac30-0b87c6b571c1",
   "metadata": {},
   "source": [
    "# Random Forest Model"
   ]
  },
  {
   "cell_type": "markdown",
   "id": "21d93672-7b42-4a8b-b620-a8a311b35520",
   "metadata": {},
   "source": [
    "## Données d'entraînement"
   ]
  },
  {
   "cell_type": "code",
   "execution_count": 30,
   "id": "91cd602f-82c2-48ee-94ab-bc40b0a92a61",
   "metadata": {},
   "outputs": [],
   "source": [
    "train_y = train.AT_RISK.to_numpy()\n",
    "train_x = train.drop(columns = ['AT_RISK']).to_numpy()"
   ]
  },
  {
   "cell_type": "markdown",
   "id": "fcdd0eb2-0f97-4200-8b04-dbc4ad0d543f",
   "metadata": {},
   "source": [
    "## Définition des paramètres"
   ]
  },
  {
   "cell_type": "code",
   "execution_count": 32,
   "id": "212d70e4-10dd-4ba6-be3b-24f8025de6a4",
   "metadata": {},
   "outputs": [],
   "source": [
    "heuristics = [\"entropy\", \"gini\"]\n",
    "max_depth = [5, 11, 13, 17]\n",
    "Rf_scores = {}\n",
    "RBest_result = 0"
   ]
  },
  {
   "cell_type": "markdown",
   "id": "d770a0d8-b064-43b2-8279-b9d3556a347f",
   "metadata": {},
   "source": [
    "## Application des différents Critères aux différentes profondeurs et recuperation du F-Scores"
   ]
  },
  {
   "cell_type": "code",
   "execution_count": 34,
   "id": "bff1c8de-26c1-4519-833c-3a6bd13d3039",
   "metadata": {},
   "outputs": [],
   "source": [
    "for d in max_depth:\n",
    "    Rf_scores[d] = np.zeros(len(heuristics))\n",
    "    for (i, heuristic) in enumerate(heuristics):\n",
    "        # creation du Random Forest\n",
    "        rf_classifier = RandomForestClassifier(n_estimators=100, criterion=heuristic, max_depth=d,  class_weight='balanced')\n",
    "        rf_classifier.fit(train_x, train_y)\n",
    "        y_pred = rf_classifier.predict(validation_x)\n",
    "\n",
    "        # Calculer la F-mesure avec sklearn\n",
    "        Rf_scores[d][i] = f1_score(y_pred, validation_y)\n",
    "        # Verifier si c'est le meilleur model\n",
    "        if Rf_scores[d][i] > RBest_result:\n",
    "            RBest_result = Rf_scores[d][i]\n",
    "            RBest_model = rf_classifier"
   ]
  },
  {
   "cell_type": "code",
   "execution_count": 35,
   "id": "ddb73503-705a-423a-836d-e2ff9a7f2aba",
   "metadata": {},
   "outputs": [
    {
     "data": {
      "image/png": "[encoded data removed]",
      "text/plain": [
       "<Figure size 640x480 with 1 Axes>"
      ]
     },
     "metadata": {},
     "output_type": "display_data"
    }
   ],
   "source": [
    "l1, l2 = [], []\n",
    "for k in Rf_scores.keys():\n",
    "    fmeasures = Rf_scores[k]\n",
    "    plt.scatter([k] * len(fmeasures), fmeasures)\n",
    "    l1.append(Rf_scores[k][0])\n",
    "    l2.append(Rf_scores[k][1])\n",
    "\n",
    "# Création des lignes pour chaque modèle avec les F-mesures moyennes + les legendes\n",
    "plt.errorbar(max_depth, l1, label ='id3')\n",
    "plt.errorbar(max_depth, l2, label ='gini')\n",
    "plt.legend(loc ='lower right')\n",
    "plt.title('Random Forest values comparison')\n",
    "plt.xlabel('Tree Depth')\n",
    "plt.ylabel('F-Measure')\n",
    "plt.show()"
   ]
  },
  {
   "cell_type": "code",
   "execution_count": 36,
   "id": "7ba87531-9492-4d3f-96c5-3d837a97e7d4",
   "metadata": {},
   "outputs": [
    {
     "name": "stdout",
     "output_type": "stream",
     "text": [
      "Best result for: heuristic = entropy, max depth = 17, F-measure = 0.663642\n"
     ]
    }
   ],
   "source": [
    "params = RBest_model.get_params()\n",
    "print('Best result for: heuristic = %s, max depth = %d, F-measure = %f' % (params['criterion'], params['max_depth'], RBest_result))"
   ]
  },
  {
   "cell_type": "markdown",
   "id": "0d1985b3-9cad-4b64-b38f-ff590a223b86",
   "metadata": {},
   "source": [
    "## Prédiction sur les données de tests"
   ]
  },
  {
   "cell_type": "code",
   "execution_count": 38,
   "id": "a7b705c0-45c1-43a5-a01e-d98bc2c11bd8",
   "metadata": {
    "scrolled": true
   },
   "outputs": [],
   "source": [
    "test_y = test.AT_RISK.to_numpy()\n",
    "test_x = test.drop(columns = ['AT_RISK']).to_numpy()"
   ]
  },
  {
   "cell_type": "code",
   "execution_count": 39,
   "id": "d0f88f58-d8e2-41c2-9a77-1c541964a242",
   "metadata": {},
   "outputs": [
    {
     "name": "stdout",
     "output_type": "stream",
     "text": [
      "Meilleur modèle trouvé avec F-mesure sur validation: 0.6636420919974795\n",
      "Évaluation sur l'ensemble de test:\n",
      "F1-Score: 0.8723\n",
      "Accuracy: 0.8582\n",
      "Precision: 0.9104\n",
      "Recall: 0.8582\n"
     ]
    }
   ],
   "source": [
    "# Prédiction sur l'ensemble de test avec le meilleur modèle\n",
    "if RBest_model is not None:\n",
    "    Ry_test_pred = RBest_model.predict(test_x)\n",
    "    # Calcul des métriques d'évaluation\n",
    "    f1 = f1_score(test_y, Ry_test_pred, average='weighted')\n",
    "    accuracy = accuracy_score(test_y, Ry_test_pred)\n",
    "    precision = precision_score(test_y, Ry_test_pred, average='weighted')\n",
    "    recall = recall_score(test_y, Ry_test_pred, average='weighted')\n",
    "\n",
    "    # Affichage des résultats\n",
    "    print(f\"Meilleur modèle trouvé avec F-mesure sur validation: {RBest_result}\")\n",
    "    print(\"Évaluation sur l'ensemble de test:\")\n",
    "    print(f\"F1-Score: {f1:.4f}\")\n",
    "    print(f\"Accuracy: {accuracy:.4f}\")\n",
    "    print(f\"Precision: {precision:.4f}\")\n",
    "    print(f\"Recall: {recall:.4f}\")\n",
    "else:\n",
    "    print(\"Aucun modèle n'a été trouvé.\")"
   ]
  },
  {
   "cell_type": "markdown",
   "id": "3bcf3c03-bf47-4e03-b51e-a4376507b7a4",
   "metadata": {},
   "source": [
    "# Q-Learning"
   ]
  },
  {
   "cell_type": "markdown",
   "id": "343d862f-0fd9-424a-8631-61dbb5bd2ec8",
   "metadata": {},
   "source": [
    "## Définition des paramètres Alpha, Gamma et Epsilon"
   ]
  },
  {
   "cell_type": "code",
   "execution_count": 42,
   "id": "20a99c88-d4fd-49fa-8628-76be023765e3",
   "metadata": {},
   "outputs": [],
   "source": [
    "learning_rates = [0.1] # Pour Alpha : Taux d'apprentissage\n",
    "discount_factors = [0.9] # Pour Gamma : Facteur de reduction\n",
    "epsilons = [0.1] # Epsilon : Probabilité d'explorer au lieu d'exploiter\n",
    "episodes = 100 # Nombre d'itération pour que l'agent apprenne la politique\n",
    "# Initialisation des Q-scores\n",
    "q_scores = {}\n",
    "best_score = -np.inf\n",
    "best_params = None\n",
    "best_Q = None"
   ]
  },
  {
   "cell_type": "markdown",
   "id": "b44093aa-250e-4ace-9dff-1d6aedb6f3d5",
   "metadata": {},
   "source": [
    "## Normalisation des Features et Réduction de la taille de l'ensemble d'entraînements"
   ]
  },
  {
   "cell_type": "code",
   "execution_count": 45,
   "id": "420a6690-267c-461c-99b1-d6e3540ba110",
   "metadata": {},
   "outputs": [],
   "source": [
    "# Préparation des données\n",
    "X = covid.drop(\"AT_RISK\", axis=1)\n",
    "Y = covid[\"AT_RISK\"]\n",
    "\n",
    "# Division des données en ensembles d'entraînement et de test\n",
    "train_X, test_X, train_Y, test_Y = train_test_split(X, Y, test_size=0.2, random_state=42)\n",
    "\n",
    "# Normalisation des features\n",
    "train_X = (train_X - train_X.mean()) / train_X.std()\n",
    "test_X = (test_X - test_X.mean()) / test_X.std()\n",
    "\n",
    "# Réduction de la taille de l'ensemble d'entraînement\n",
    "sampled_train_X, _, sampled_train_Y, _ = train_test_split(train_X, train_Y, test_size=0.90, stratify=train_Y, random_state=42)\n",
    "sampled_test_X, _, sampled_test_Y, _ = train_test_split(test_X, test_Y, test_size=0.90, stratify=test_Y, random_state=42)"
   ]
  },
  {
   "cell_type": "markdown",
   "id": "a96f1d88-6c0e-4641-aa4c-32acb47ad375",
   "metadata": {},
   "source": [
    "## Entraînement avec le Q-Learning"
   ]
  },
  {
   "cell_type": "code",
   "execution_count": 47,
   "id": "ac3aa9d4-2665-42d1-8600-bc0140eed301",
   "metadata": {},
   "outputs": [
    {
     "name": "stdout",
     "output_type": "stream",
     "text": [
      "Meilleurs paramètres: Alpha=0.1, Gamma=0.9, Epsilon=0.1\n",
      "Meilleure récompense moyenne: 28030.8000\n"
     ]
    }
   ],
   "source": [
    "reward_progress = {}\n",
    "for alpha in learning_rates:\n",
    "    for gamma in discount_factors:\n",
    "        for epsilon in epsilons:\n",
    "            # Initialiser les valeurs Q avec des zéros\n",
    "            n_states = sampled_train_X.shape[0]\n",
    "            n_actions = 2  # 0: Non Risque COVID, 1: Risque COVID\n",
    "            Q = np.zeros((n_states, n_actions))\n",
    "            rewards = []  # Pour suivre les récompenses par épisode\n",
    "\n",
    "            for episode in range(episodes):\n",
    "                total_reward = 0\n",
    "                for i, state in enumerate(sampled_train_X.values):\n",
    "                    # Choisir une action (Exploration vs Exploitation)\n",
    "                    if np.random.rand() < epsilon:\n",
    "                        action = np.random.choice(n_actions)  # Exploration : Se base sur des probabilités et des nombres aléatoire\n",
    "                    else:\n",
    "                        action = np.argmax(Q[i, :])  # Exploitation : Se base sur les valeurs du Q-Table (Maximisation) \n",
    "\n",
    "                    # Calculer la récompense\n",
    "                    correct_action = sampled_train_Y.iloc[i]\n",
    "                    reward = 1 if action == correct_action else -1\n",
    "\n",
    "                    # Mise à jour Q-value\n",
    "                    next_state = (i + 1) % n_states\n",
    "                    best_next_action = np.argmax(Q[next_state, :])\n",
    "                    Q[i, action] += alpha * (reward + gamma * Q[next_state, best_next_action] - Q[i, action])\n",
    "\n",
    "                    total_reward += reward\n",
    "\n",
    "                rewards.append(total_reward)\n",
    "\n",
    "            # Enregistrer les récompenses cumulées\n",
    "            reward_progress[(alpha, gamma, epsilon)] = rewards\n",
    "\n",
    "\n",
    "            # Calcul de la récompense moyenne\n",
    "            avg_reward = np.mean(rewards[-10:])  # Moyenne des 10 derniers épisodes\n",
    "            q_scores[(alpha, gamma, epsilon)] = avg_reward\n",
    "\n",
    "            if avg_reward > best_score:\n",
    "                best_score = avg_reward\n",
    "                best_params = (alpha, gamma, epsilon)\n",
    "                best_Q = Q\n",
    "\n",
    "# Affichage des meilleurs résultats\n",
    "print(f\"Meilleurs paramètres: Alpha={best_params[0]}, Gamma={best_params[1]}, Epsilon={best_params[2]}\")\n",
    "print(f\"Meilleure récompense moyenne: {best_score:.4f}\")"
   ]
  },
  {
   "cell_type": "markdown",
   "id": "d410a050-09fd-47a9-9e80-cb9a1a0e1845",
   "metadata": {},
   "source": [
    "## Prédiction sur l'ensemble de test"
   ]
  },
  {
   "cell_type": "code",
   "execution_count": 49,
   "id": "73a28fa7-eee0-46d8-8f7d-51e38b4d60aa",
   "metadata": {},
   "outputs": [
    {
     "name": "stdout",
     "output_type": "stream",
     "text": [
      "Meilleurs paramètres: Alpha=0.1, Gamma=0.9, Epsilon=0.1\n",
      "Meilleure récompense moyenne sur l'entraînement: 28030.8000\n",
      "Évaluation sur l'ensemble de test:\n",
      "F1-Score: 0.7385\n",
      "Accuracy: 0.7381\n",
      "Precision: 0.7389\n",
      "Recall: 0.7381\n"
     ]
    },
    {
     "data": {
      "image/png": "[encoded data removed]",
      "text/plain": [
       "<Figure size 1000x600 with 1 Axes>"
      ]
     },
     "metadata": {},
     "output_type": "display_data"
    }
   ],
   "source": [
    "if best_Q is not None:\n",
    "    # Prédictions sur les données de test\n",
    "    predictions = []\n",
    "    for i, state in enumerate(sampled_test_X.values):\n",
    "        action = np.argmax(best_Q[i % sampled_train_X.shape[0], :])  # Exploitation\n",
    "        predictions.append(action)\n",
    "\n",
    "    # Calcul des métriques d'évaluation\n",
    "    f1 = f1_score(sampled_test_Y, predictions, average=\"weighted\")\n",
    "    accuracy = accuracy_score(sampled_test_Y, predictions)\n",
    "    precision = precision_score(sampled_test_Y, predictions, average=\"weighted\")\n",
    "    recall = recall_score(sampled_test_Y, predictions, average=\"weighted\")\n",
    "\n",
    "    # Affichage des résultats\n",
    "    print(f\"Meilleurs paramètres: Alpha={best_params[0]}, Gamma={best_params[1]}, Epsilon={best_params[2]}\")\n",
    "    print(f\"Meilleure récompense moyenne sur l'entraînement: {best_score:.4f}\")\n",
    "    print(\"Évaluation sur l'ensemble de test:\")\n",
    "    print(f\"F1-Score: {f1:.4f}\")\n",
    "    print(f\"Accuracy: {accuracy:.4f}\")\n",
    "    print(f\"Precision: {precision:.4f}\")\n",
    "    print(f\"Recall: {recall:.4f}\")\n",
    "    # Afficher le graphique des récompenses cumulées\n",
    "    plt.figure(figsize=(10, 6))\n",
    "    for key, rewards in reward_progress.items():\n",
    "        plt.plot(rewards, label=f\"α={key[0]}, γ={key[1]}, ε={key[2]}\")\n",
    "    plt.xlabel(\"Épisodes\")\n",
    "    plt.ylabel(\"Récompenses cumulées\")\n",
    "    plt.title(\"Progression des récompenses cumulées au fil des épisodes\")\n",
    "    plt.legend()\n",
    "    plt.show()\n",
    "else:\n",
    "    print(\"Aucun modèle n'a été trouvé.\")"
   ]
  },
  {
   "cell_type": "code",
   "execution_count": null,
   "id": "9e8d73ea-1870-4c26-a6ee-45fb3e9e1834",
   "metadata": {},
   "outputs": [],
   "source": []
  }
 ],
 "metadata": {
  "kernelspec": {
   "display_name": "Python [conda env:base] *",
   "language": "python",
   "name": "conda-base-py"
  },
  "language_info": {
   "codemirror_mode": {
    "name": "ipython",
    "version": 3
   },
   "file_extension": ".py",
   "mimetype": "text/x-python",
   "name": "python",
   "nbconvert_exporter": "python",
   "pygments_lexer": "ipython3",
   "version": "3.12.7"
  }
 },
 "nbformat": 4,
 "nbformat_minor": 5
}
